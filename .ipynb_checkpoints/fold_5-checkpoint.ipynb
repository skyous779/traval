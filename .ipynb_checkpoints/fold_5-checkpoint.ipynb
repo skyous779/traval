{
 "cells": [
  {
   "cell_type": "code",
   "execution_count": 2,
   "id": "5d86e82a-6a9a-4df8-8ded-44550569a40e",
   "metadata": {},
   "outputs": [],
   "source": [
    "import os, glob\n",
    "import random\n",
    "import shutil"
   ]
  },
  {
   "cell_type": "code",
   "execution_count": 3,
   "id": "7484ed32-efd7-4dd4-aa13-cd3c85b11400",
   "metadata": {},
   "outputs": [
    {
     "name": "stdout",
     "output_type": "stream",
     "text": [
      "fold0===================== 划分训练集和验证集 =====================\n",
      "fold0========================= 划分完成！ =========================\n"
     ]
    }
   ],
   "source": [
    "\n",
    "discount = 1\n",
    "images_dir = os.path.join('/home/ma-user/work/data/image')\n",
    "\n",
    "for dis in range(discount):\n",
    "\n",
    "    \n",
    "\n",
    "    train_dir = os.path.join(\"/home/ma-user/work/data/\",'fold'+str(dis), \"train\")\n",
    "    if not os.path.exists(train_dir):\n",
    "        os.makedirs(train_dir)\n",
    "    val_dir = os.path.join(\"/home/ma-user/work/data/\",'fold'+str(dis),  \"val\")\n",
    "    if not os.path.exists(val_dir):\n",
    "        os.makedirs(val_dir) \n",
    "    \n",
    "\n",
    "    # 划分训练集和验证集\n",
    "    print('fold'+str(dis)+\"===================== 划分训练集和验证集 =====================\")\n",
    "\n",
    "    for class_dir_name in os.listdir(images_dir):\n",
    "        images_path_list = glob.glob(os.path.join(images_dir, class_dir_name, \"*\"))\n",
    "        num_list = [i for i in range(len(images_path_list))]\n",
    "\n",
    "        # random.shuffle(num_list)\n",
    "\n",
    "        dst_train_dir = os.path.join(train_dir, class_dir_name[1:])  ## 原始数据多一个空格 如：' 11'\n",
    "        dst_val_dir = os.path.join(val_dir, class_dir_name[1:])\n",
    "        os.makedirs(dst_train_dir, exist_ok=True)\n",
    "        os.makedirs(dst_val_dir, exist_ok=True)\n",
    "\n",
    "        img_num = len(images_path_list)\n",
    "        train_nums = round(img_num * 0.8)\n",
    "        \n",
    "        for i in num_list[0:train_nums]:\n",
    "            (file_path, file_name) = os.path.split(images_path_list[i])\n",
    "            dst_train_path = os.path.join(dst_train_dir, file_name)\n",
    "            shutil.copy(images_path_list[i], dst_train_path)\n",
    "\n",
    "        for i in num_list[train_nums:]:\n",
    "            (file_path, file_name) = os.path.split(images_path_list[i])\n",
    "            dst_val_path = os.path.join(dst_val_dir, file_name)\n",
    "            shutil.copy(images_path_list[i], dst_val_path)\n",
    "            \n",
    "        # for i in num_list[train_nums*dis+50:len(images_path_list)]:\n",
    "        #     (file_path, file_name) = os.path.split(images_path_list[i])\n",
    "        #     dst_train_path = os.path.join(dst_train_dir, file_name)\n",
    "        #     shutil.copy(images_path_list[i], dst_train_path)            \n",
    "            \n",
    "\n",
    "    print('fold'+str(dis)+\"========================= 划分完成！ =========================\")"
   ]
  },
  {
   "cell_type": "code",
   "execution_count": 1,
   "id": "6f0c4d2a-bfff-412a-a85a-b6b7046ccb93",
   "metadata": {},
   "outputs": [
    {
     "name": "stdout",
     "output_type": "stream",
     "text": [
      "0\n"
     ]
    }
   ],
   "source": [
    "for i in range(1):\n",
    "    print(i)"
   ]
  },
  {
   "cell_type": "code",
   "execution_count": null,
   "id": "5d36dedb-0812-46f1-a8b9-c7f5efe3d3e6",
   "metadata": {},
   "outputs": [],
   "source": []
  }
 ],
 "metadata": {
  "kernelspec": {
   "display_name": "MindSpore",
   "language": "python",
   "name": "mindspore"
  },
  "language_info": {
   "codemirror_mode": {
    "name": "ipython",
    "version": 3
   },
   "file_extension": ".py",
   "mimetype": "text/x-python",
   "name": "python",
   "nbconvert_exporter": "python",
   "pygments_lexer": "ipython3",
   "version": "3.7.10"
  }
 },
 "nbformat": 4,
 "nbformat_minor": 5
}
